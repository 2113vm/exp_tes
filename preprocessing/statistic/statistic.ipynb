{
 "cells": [
  {
   "cell_type": "code",
   "execution_count": 9,
   "metadata": {},
   "outputs": [],
   "source": [
    "from os import listdir\n",
    "\n",
    "import pandas as pd\n",
    "import numpy as np\n",
    "import skimage as sk\n",
    "from skimage import io\n",
    "import cv2\n",
    "\n",
    "%matplotlib inline"
   ]
  },
  {
   "cell_type": "code",
   "execution_count": 2,
   "metadata": {},
   "outputs": [],
   "source": [
    "image_dir = '../pricetag/'"
   ]
  },
  {
   "cell_type": "code",
   "execution_count": 5,
   "metadata": {},
   "outputs": [
    {
     "data": {
      "text/plain": [
       "31"
      ]
     },
     "execution_count": 5,
     "metadata": {},
     "output_type": "execute_result"
    }
   ],
   "source": [
    "images = listdir(image_dir)\n",
    "len(images)"
   ]
  },
  {
   "cell_type": "code",
   "execution_count": null,
   "metadata": {},
   "outputs": [],
   "source": [
    "def statistic(image):\n",
    "    \n",
    "    shape = image.shape\n",
    "    channel_max = image.max(axis=0).max(axis=0)\n",
    "    channel_min = image.min(axis=0).min(axis=0)\n",
    "    channel_median = np.median(np.median(image, axis=0), axis=0)\n",
    "    channel_mean = image.mean(axis=0).mean(axis=0)\n",
    "    red_perc_25 = np.percentile(image[:,:,0].reshape(image.shape[0]*image.shape[1], 1), 25, axis=0)\n",
    "    red_perc_75 = np.percentile(image[:,:,0].reshape(image.shape[0]*image.shape[1], 1), 75, axis=0)\n",
    "    green_perc_25 = np.percentile(image[:,:,1].reshape(image.shape[0]*image.shape[1], 1), 25, axis=0)\n",
    "    green_perc_75 = np.percentile(image[:,:,1].reshape(image.shape[0]*image.shape[1], 1), 75, axis=0)\n",
    "    blue_perc_25 = np.percentile(image[:,:,1].reshape(image.shape[0]*image.shape[1], 1), 25, axis=0)\n",
    "    blue_perc_75 = np.percentile(image[:,:,1].reshape(image.shape[0]*image.shape[1], 1), 75, axis=0)\n",
    "    \n",
    "    "
   ]
  },
  {
   "cell_type": "code",
   "execution_count": 10,
   "metadata": {},
   "outputs": [],
   "source": [
    "image = sk.io.imread(image_dir + images[4])"
   ]
  },
  {
   "cell_type": "code",
   "execution_count": 42,
   "metadata": {},
   "outputs": [
    {
     "data": {
      "text/plain": [
       "array([ 162.])"
      ]
     },
     "execution_count": 42,
     "metadata": {},
     "output_type": "execute_result"
    }
   ],
   "source": [
    "np.percentile(image[:,:,0].reshape(image.shape[0]*image.shape[1], 1), 25, axis=0)"
   ]
  },
  {
   "cell_type": "code",
   "execution_count": null,
   "metadata": {},
   "outputs": [],
   "source": []
  }
 ],
 "metadata": {
  "kernelspec": {
   "display_name": "Python 3",
   "language": "python",
   "name": "python3"
  },
  "language_info": {
   "codemirror_mode": {
    "name": "ipython",
    "version": 3
   },
   "file_extension": ".py",
   "mimetype": "text/x-python",
   "name": "python",
   "nbconvert_exporter": "python",
   "pygments_lexer": "ipython3",
   "version": "3.6.3"
  }
 },
 "nbformat": 4,
 "nbformat_minor": 2
}
